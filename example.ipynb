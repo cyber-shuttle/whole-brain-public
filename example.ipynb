{
 "cells": [
  {
   "cell_type": "code",
   "execution_count": null,
   "id": "82400129",
   "metadata": {},
   "outputs": [],
   "source": [
    "# %pip install --force-reinstall airavata-python-sdk[notebook]\n",
    "import airavata_jupyter_magic\n",
    "\n",
    "%authenticate\n",
    "%request_runtime cpu --file=cybershuttle.yml\n",
    "%switch_runtime cpu"
   ]
  },
  {
   "cell_type": "code",
   "execution_count": null,
   "id": "da5612e5",
   "metadata": {},
   "outputs": [],
   "source": [
    "%ls /data"
   ]
  }
 ],
 "metadata": {
  "language_info": {
   "name": "python"
  }
 },
 "nbformat": 4,
 "nbformat_minor": 5
}
