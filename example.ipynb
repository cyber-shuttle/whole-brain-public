{
 "cells": [
  {
   "cell_type": "code",
   "execution_count": null,
   "id": "82400129",
   "metadata": {},
   "outputs": [],
   "source": [
    "# %pip install --force-reinstall airavata-python-sdk[notebook]\n",
    "import airavata_jupyter_magic\n",
    "\n",
    "%authenticate\n",
    "%request_runtime hpc_cpu --file=cybershuttle.yml --walltime=60 --use=expanse:shared,anvil:shared\n",
    "%switch_runtime hpc_cpu"
   ]
  },
  {
   "cell_type": "code",
   "execution_count": null,
   "id": "da5612e5",
   "metadata": {},
   "outputs": [],
   "source": [
    "%ls /data"
   ]
  }
 ],
 "metadata": {
  "language_info": {
   "name": "python"
  }
 },
 "nbformat": 4,
 "nbformat_minor": 5
}
